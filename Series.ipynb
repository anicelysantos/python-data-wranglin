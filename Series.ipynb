{
  "nbformat": 4,
  "nbformat_minor": 0,
  "metadata": {
    "colab": {
      "name": "Series.ipynb",
      "provenance": []
    },
    "kernelspec": {
      "name": "python3",
      "display_name": "Python 3"
    },
    "language_info": {
      "name": "python"
    }
  },
  "cells": [
    {
      "cell_type": "code",
      "execution_count": 1,
      "metadata": {
        "id": "_Au9cy_ok-e5"
      },
      "outputs": [],
      "source": [
        "import pandas as pd"
      ]
    },
    {
      "cell_type": "code",
      "source": [
        "#indice automático do pandas\n",
        "notas = pd.Series([7.6, 5.0, 8.5, 9.5, 6.4])"
      ],
      "metadata": {
        "id": "XkBaJIzOlB99"
      },
      "execution_count": 10,
      "outputs": []
    },
    {
      "cell_type": "code",
      "source": [
        "lista_matriculas = ['M02','M05','M13','M14','M19']"
      ],
      "metadata": {
        "id": "DmWvsDT8lSYn"
      },
      "execution_count": 3,
      "outputs": []
    },
    {
      "cell_type": "code",
      "source": [
        "lista_nomes = ['Bob', 'Dayse', 'Bill', 'Cris','Jimi']"
      ],
      "metadata": {
        "id": "Ud0AK2RxlcbB"
      },
      "execution_count": 4,
      "outputs": []
    },
    {
      "cell_type": "code",
      "source": [
        "alunos = pd.Series(lista_nomes, index=lista_matriculas)"
      ],
      "metadata": {
        "id": "dS399ZjAlkur"
      },
      "execution_count": 7,
      "outputs": []
    },
    {
      "cell_type": "code",
      "source": [
        "#indice pré definido\n",
        "alunos"
      ],
      "metadata": {
        "id": "qI8ocamXltYj"
      },
      "execution_count": null,
      "outputs": []
    },
    {
      "cell_type": "code",
      "source": [
        "#indice pre definido usando dicionários\n",
        "dic_alunos = {'M02':'Bob', 'M05':'Dayse', 'M13':'Bill','M14':'Cris','M19':'Jimi'}\n",
        "alunos = pd.Series(dic_alunos)"
      ],
      "metadata": {
        "id": "6qB-BJM3l0H6"
      },
      "execution_count": 14,
      "outputs": []
    },
    {
      "cell_type": "markdown",
      "source": [
        "**Desmembrando uma série**"
      ],
      "metadata": {
        "id": "JfUAxPDdnwGq"
      }
    },
    {
      "cell_type": "code",
      "source": [
        "alunos = pd.Series({'M02':'Bob', 'M05':'Dayse', 'M13':'Bill','M14':'Cris','M19':'Jimi'})\n"
      ],
      "metadata": {
        "id": "Yq87AqdYmkEa"
      },
      "execution_count": 16,
      "outputs": []
    },
    {
      "cell_type": "code",
      "source": [
        "alunos.name = \"alunos\""
      ],
      "metadata": {
        "id": "vVRRkRfvoCPF"
      },
      "execution_count": 18,
      "outputs": []
    },
    {
      "cell_type": "code",
      "source": [
        "alunos.index.name =\"matrículas\""
      ],
      "metadata": {
        "id": "6aJcWD4ZoFUB"
      },
      "execution_count": 19,
      "outputs": []
    },
    {
      "cell_type": "code",
      "source": [
        "alunos"
      ],
      "metadata": {
        "id": "Z7mqjpKYoJ-Y"
      },
      "execution_count": null,
      "outputs": []
    },
    {
      "cell_type": "code",
      "source": [
        "tamanho = alunos.size\n",
        "tamanho"
      ],
      "metadata": {
        "id": "vR8vpSj1oMfR"
      },
      "execution_count": null,
      "outputs": []
    },
    {
      "cell_type": "code",
      "source": [
        "dados = alunos.values\n",
        "dados"
      ],
      "metadata": {
        "colab": {
          "base_uri": "https://localhost:8080/"
        },
        "id": "xUU7lkjvoPtC",
        "outputId": "d1336c08-2d55-4e12-fd22-036fd8edc586"
      },
      "execution_count": 24,
      "outputs": [
        {
          "output_type": "execute_result",
          "data": {
            "text/plain": [
              "array(['Bob', 'Dayse', 'Bill', 'Cris', 'Jimi'], dtype=object)"
            ]
          },
          "metadata": {},
          "execution_count": 24
        }
      ]
    },
    {
      "cell_type": "code",
      "source": [
        "rotulos = alunos.index\n",
        "rotulos"
      ],
      "metadata": {
        "colab": {
          "base_uri": "https://localhost:8080/"
        },
        "id": "UW4-E8RcoUiq",
        "outputId": "139975c8-5c91-40e2-a327-40515300a3f4"
      },
      "execution_count": 25,
      "outputs": [
        {
          "output_type": "execute_result",
          "data": {
            "text/plain": [
              "Index(['M02', 'M05', 'M13', 'M14', 'M19'], dtype='object', name='matrículas')"
            ]
          },
          "metadata": {},
          "execution_count": 25
        }
      ]
    },
    {
      "cell_type": "code",
      "source": [
        "alunos_tipo = type(alunos)\n",
        "alunos_tipo"
      ],
      "metadata": {
        "colab": {
          "base_uri": "https://localhost:8080/"
        },
        "id": "aiHkjHQhocFI",
        "outputId": "291d55d7-9b11-4b27-8a0d-8a0a87a11191"
      },
      "execution_count": 27,
      "outputs": [
        {
          "output_type": "execute_result",
          "data": {
            "text/plain": [
              "pandas.core.series.Series"
            ]
          },
          "metadata": {},
          "execution_count": 27
        }
      ]
    },
    {
      "cell_type": "code",
      "source": [
        "alunos_dtype = alunos.dtype\n",
        "alunos_dtype"
      ],
      "metadata": {
        "colab": {
          "base_uri": "https://localhost:8080/"
        },
        "id": "Kw4eNo1Loiux",
        "outputId": "2809301a-c40e-4e2a-c760-5f95b498c990"
      },
      "execution_count": 30,
      "outputs": [
        {
          "output_type": "execute_result",
          "data": {
            "text/plain": [
              "dtype('O')"
            ]
          },
          "metadata": {},
          "execution_count": 30
        }
      ]
    },
    {
      "cell_type": "code",
      "source": [
        "alunos_idx_dtype = alunos.index.dtype\n",
        "alunos_idx_dtype"
      ],
      "metadata": {
        "colab": {
          "base_uri": "https://localhost:8080/"
        },
        "id": "ul-StXAlotfp",
        "outputId": "8b6391df-d7c2-41b5-ba34-a1f91a7ee5ea"
      },
      "execution_count": 32,
      "outputs": [
        {
          "output_type": "execute_result",
          "data": {
            "text/plain": [
              "dtype('O')"
            ]
          },
          "metadata": {},
          "execution_count": 32
        }
      ]
    },
    {
      "cell_type": "code",
      "source": [
        ""
      ],
      "metadata": {
        "id": "E9-lMog-pC8g"
      },
      "execution_count": null,
      "outputs": []
    }
  ]
}