{
  "nbformat": 4,
  "nbformat_minor": 0,
  "metadata": {
    "colab": {
      "name": "Series.ipynb",
      "provenance": [],
      "authorship_tag": "ABX9TyOWcXKff8RF7NAv0JbW4mVa",
      "include_colab_link": true
    },
    "kernelspec": {
      "name": "python3",
      "display_name": "Python 3"
    },
    "language_info": {
      "name": "python"
    }
  },
  "cells": [
    {
      "cell_type": "markdown",
      "metadata": {
        "id": "view-in-github",
        "colab_type": "text"
      },
      "source": [
        "<a href=\"https://colab.research.google.com/github/anicelysantos/python-data-wrangling/blob/main/Series.ipynb\" target=\"_parent\"><img src=\"https://colab.research.google.com/assets/colab-badge.svg\" alt=\"Open In Colab\"/></a>"
      ]
    },
    {
      "cell_type": "code",
      "execution_count": 1,
      "metadata": {
        "id": "_Au9cy_ok-e5"
      },
      "outputs": [],
      "source": [
        "import pandas as pd\n",
        "import numpy as np"
      ]
    },
    {
      "cell_type": "code",
      "source": [
        "#indice automático do pandas\n",
        "notas = pd.Series([7.6, 5.0, 8.5, 9.5, 6.4])"
      ],
      "metadata": {
        "id": "XkBaJIzOlB99"
      },
      "execution_count": null,
      "outputs": []
    },
    {
      "cell_type": "code",
      "source": [
        "lista_matriculas = ['M02','M05','M13','M14','M19']"
      ],
      "metadata": {
        "id": "DmWvsDT8lSYn"
      },
      "execution_count": null,
      "outputs": []
    },
    {
      "cell_type": "code",
      "source": [
        "lista_nomes = ['Bob', 'Dayse', 'Bill', 'Cris','Jimi']"
      ],
      "metadata": {
        "id": "Ud0AK2RxlcbB"
      },
      "execution_count": null,
      "outputs": []
    },
    {
      "cell_type": "code",
      "source": [
        "alunos = pd.Series(lista_nomes, index=lista_matriculas)"
      ],
      "metadata": {
        "id": "dS399ZjAlkur"
      },
      "execution_count": null,
      "outputs": []
    },
    {
      "cell_type": "code",
      "source": [
        "#indice pré definido\n",
        "alunos"
      ],
      "metadata": {
        "id": "qI8ocamXltYj"
      },
      "execution_count": null,
      "outputs": []
    },
    {
      "cell_type": "code",
      "source": [
        "#indice pre definido usando dicionários\n",
        "dic_alunos = {'M02':'Bob', 'M05':'Dayse', 'M13':'Bill','M14':'Cris','M19':'Jimi'}\n",
        "alunos = pd.Series(dic_alunos)"
      ],
      "metadata": {
        "id": "6qB-BJM3l0H6"
      },
      "execution_count": null,
      "outputs": []
    },
    {
      "cell_type": "markdown",
      "source": [
        "**Desmembrando uma série**"
      ],
      "metadata": {
        "id": "JfUAxPDdnwGq"
      }
    },
    {
      "cell_type": "code",
      "source": [
        "alunos = pd.Series({'M02':'Bob', 'M05':'Dayse', 'M13':'Bill','M14':'Cris','M19':'Jimi'})\n"
      ],
      "metadata": {
        "id": "Yq87AqdYmkEa"
      },
      "execution_count": null,
      "outputs": []
    },
    {
      "cell_type": "code",
      "source": [
        "alunos.name = \"alunos\""
      ],
      "metadata": {
        "id": "vVRRkRfvoCPF"
      },
      "execution_count": null,
      "outputs": []
    },
    {
      "cell_type": "code",
      "source": [
        "alunos.index.name =\"matrículas\""
      ],
      "metadata": {
        "id": "6aJcWD4ZoFUB"
      },
      "execution_count": null,
      "outputs": []
    },
    {
      "cell_type": "code",
      "source": [
        "alunos"
      ],
      "metadata": {
        "id": "Z7mqjpKYoJ-Y"
      },
      "execution_count": null,
      "outputs": []
    },
    {
      "cell_type": "code",
      "source": [
        "tamanho = alunos.size\n",
        "tamanho"
      ],
      "metadata": {
        "id": "vR8vpSj1oMfR"
      },
      "execution_count": null,
      "outputs": []
    },
    {
      "cell_type": "code",
      "source": [
        "dados = alunos.values\n",
        "dados"
      ],
      "metadata": {
        "colab": {
          "base_uri": "https://localhost:8080/"
        },
        "id": "xUU7lkjvoPtC",
        "outputId": "d1336c08-2d55-4e12-fd22-036fd8edc586"
      },
      "execution_count": null,
      "outputs": [
        {
          "output_type": "execute_result",
          "data": {
            "text/plain": [
              "array(['Bob', 'Dayse', 'Bill', 'Cris', 'Jimi'], dtype=object)"
            ]
          },
          "metadata": {},
          "execution_count": 24
        }
      ]
    },
    {
      "cell_type": "code",
      "source": [
        "rotulos = alunos.index\n",
        "rotulos"
      ],
      "metadata": {
        "colab": {
          "base_uri": "https://localhost:8080/"
        },
        "id": "UW4-E8RcoUiq",
        "outputId": "139975c8-5c91-40e2-a327-40515300a3f4"
      },
      "execution_count": null,
      "outputs": [
        {
          "output_type": "execute_result",
          "data": {
            "text/plain": [
              "Index(['M02', 'M05', 'M13', 'M14', 'M19'], dtype='object', name='matrículas')"
            ]
          },
          "metadata": {},
          "execution_count": 25
        }
      ]
    },
    {
      "cell_type": "code",
      "source": [
        "alunos_tipo = type(alunos)\n",
        "alunos_tipo"
      ],
      "metadata": {
        "colab": {
          "base_uri": "https://localhost:8080/"
        },
        "id": "aiHkjHQhocFI",
        "outputId": "291d55d7-9b11-4b27-8a0d-8a0a87a11191"
      },
      "execution_count": null,
      "outputs": [
        {
          "output_type": "execute_result",
          "data": {
            "text/plain": [
              "pandas.core.series.Series"
            ]
          },
          "metadata": {},
          "execution_count": 27
        }
      ]
    },
    {
      "cell_type": "code",
      "source": [
        "alunos_dtype = alunos.dtype\n",
        "alunos_dtype"
      ],
      "metadata": {
        "colab": {
          "base_uri": "https://localhost:8080/"
        },
        "id": "Kw4eNo1Loiux",
        "outputId": "2809301a-c40e-4e2a-c760-5f95b498c990"
      },
      "execution_count": null,
      "outputs": [
        {
          "output_type": "execute_result",
          "data": {
            "text/plain": [
              "dtype('O')"
            ]
          },
          "metadata": {},
          "execution_count": 30
        }
      ]
    },
    {
      "cell_type": "code",
      "source": [
        "alunos_idx_dtype = alunos.index.dtype\n",
        "alunos_idx_dtype"
      ],
      "metadata": {
        "colab": {
          "base_uri": "https://localhost:8080/"
        },
        "id": "ul-StXAlotfp",
        "outputId": "8b6391df-d7c2-41b5-ba34-a1f91a7ee5ea"
      },
      "execution_count": null,
      "outputs": [
        {
          "output_type": "execute_result",
          "data": {
            "text/plain": [
              "dtype('O')"
            ]
          },
          "metadata": {},
          "execution_count": 32
        }
      ]
    },
    {
      "cell_type": "markdown",
      "source": [
        "### Técnicas para consulta e modificação de dados"
      ],
      "metadata": {
        "id": "d6MI5AsveXnk"
      }
    },
    {
      "cell_type": "markdown",
      "source": [
        "** Indexação boleana**"
      ],
      "metadata": {
        "id": "qQoKyHCiegqQ"
      }
    },
    {
      "cell_type": "code",
      "source": [
        "#cria a serie notas e alunos\n",
        "notas = pd.Series([7.6, 5.0, 8.5, 9.5, 6.4])\n",
        "alunos = pd.Series({'M02':'Bob', 'M05':'Dayse', 'M13':'Bill','M14':'Cris','M19':'Jimi'})"
      ],
      "metadata": {
        "id": "PeSo706tedg-"
      },
      "execution_count": null,
      "outputs": []
    },
    {
      "cell_type": "markdown",
      "source": [
        "cria um vetor novo pegando apenas os alunos que tem as notas maiores iguais a 7"
      ],
      "metadata": {
        "id": "74jVoqWKirNm"
      }
    },
    {
      "cell_type": "code",
      "source": [
        "#Obtém os indices dos alunos aprovados\n",
        "idx_aprovados = notas[notas >= 7].index"
      ],
      "metadata": {
        "id": "E9-lMog-pC8g"
      },
      "execution_count": null,
      "outputs": []
    },
    {
      "cell_type": "code",
      "source": [
        "#imprime os alunos aprovados\n",
        "print('relação de alunos aprovados:')\n",
        "print('----------------------------')\n",
        "print(alunos[idx_aprovados])"
      ],
      "metadata": {
        "colab": {
          "base_uri": "https://localhost:8080/"
        },
        "id": "K1Epun-ogzD1",
        "outputId": "80aa8563-56dd-45cf-e892-cc5ed75f8a0e"
      },
      "execution_count": null,
      "outputs": [
        {
          "output_type": "stream",
          "name": "stdout",
          "text": [
            "relação de alunos aprovados:\n",
            "----------------------------\n",
            "M02     Bob\n",
            "M13    Bill\n",
            "M14    Cris\n",
            "dtype: object\n"
          ]
        }
      ]
    },
    {
      "cell_type": "markdown",
      "source": [
        "**Busca**"
      ],
      "metadata": {
        "id": "XTiA-UlFjOcn"
      }
    },
    {
      "cell_type": "code",
      "source": [
        "alunos = pd.Series({'M02':'Bob', 'M05':'Dayse', 'M13':'Bill','M14':'Cris','M19':'Jimi'})"
      ],
      "metadata": {
        "id": "wis1ngJEi6nK"
      },
      "execution_count": null,
      "outputs": []
    },
    {
      "cell_type": "markdown",
      "source": [
        "\n",
        "Procurar se algum rótulo está presente dentro da serie"
      ],
      "metadata": {
        "id": "w3lI-vIijnHm"
      }
    },
    {
      "cell_type": "code",
      "source": [
        "tem_M13 = 'M13' in alunos\n",
        "tem_M99 = 'M99' in alunos\n",
        "print(\"existe o rótulo 'M13'? -> \", tem_M13)\n",
        "print(\"existe o rótulo 'M99'? -> \", tem_M99)"
      ],
      "metadata": {
        "colab": {
          "base_uri": "https://localhost:8080/"
        },
        "id": "AHNcuyqmhB-r",
        "outputId": "e06886cf-9f07-4b1b-e493-3b7417843913"
      },
      "execution_count": null,
      "outputs": [
        {
          "output_type": "stream",
          "name": "stdout",
          "text": [
            "existe o rótulo 'M13'? ->  True\n",
            "existe o rótulo 'M99'? ->  False\n",
            "------------------------------------\n"
          ]
        }
      ]
    },
    {
      "cell_type": "markdown",
      "source": [
        "Procurar se algum valor está presente dentro da serie"
      ],
      "metadata": {
        "id": "UDJr-T2nkRei"
      }
    },
    {
      "cell_type": "code",
      "source": [
        "tem_Bob = alunos.isin(['Bob'])\n",
        "print(\"existe o valor 'Bob'\")\n",
        "print(tem_Bob)"
      ],
      "metadata": {
        "colab": {
          "base_uri": "https://localhost:8080/"
        },
        "id": "62W50qz-jrlp",
        "outputId": "f91ccfb6-6b7d-4b8c-9b9d-7ffe4723a913"
      },
      "execution_count": null,
      "outputs": [
        {
          "output_type": "stream",
          "name": "stdout",
          "text": [
            "existe o valor 'Bob'\n",
            "M02     True\n",
            "M05    False\n",
            "M13    False\n",
            "M14    False\n",
            "M19    False\n",
            "dtype: bool\n"
          ]
        }
      ]
    },
    {
      "cell_type": "markdown",
      "source": [
        "**Modificação**"
      ],
      "metadata": {
        "id": "Sqp_n9Byk9CW"
      }
    },
    {
      "cell_type": "code",
      "source": [
        "#insere\to\taluno\tde\tmatrícula\tM55,\tRakesh\n",
        "alunos['M55'] = 'Rakesh'"
      ],
      "metadata": {
        "id": "ehE3gS2LkgXT"
      },
      "execution_count": null,
      "outputs": []
    },
    {
      "cell_type": "code",
      "source": [
        "#altera\tos\tnomes\tBill,\tCris\te\tJimi\tpara\tBilly,\tCristy\te\tJimmy\n",
        "alunos ['M13'] = 'Billy'\n",
        "alunos[['M14','M19']] = ['Cristy','Jimmy']"
      ],
      "metadata": {
        "id": "XR7KWSF9m8uT"
      },
      "execution_count": null,
      "outputs": []
    },
    {
      "cell_type": "code",
      "source": [
        "#remove\to\taluno\tde\tmatrícula\tM02\t(Bob)\n",
        "alunos = alunos.drop('M02')\n",
        "alunos"
      ],
      "metadata": {
        "id": "RJ8Y3msym91Q"
      },
      "execution_count": null,
      "outputs": []
    },
    {
      "cell_type": "markdown",
      "source": [
        "### Computação Vetorizada"
      ],
      "metadata": {
        "id": "it2mAqTin48B"
      }
    },
    {
      "cell_type": "code",
      "source": [
        "#iterar sobre os dados\n",
        "for aluno in alunos:\n",
        "  print(aluno)"
      ],
      "metadata": {
        "colab": {
          "base_uri": "https://localhost:8080/"
        },
        "id": "TeXzDqVcnNSZ",
        "outputId": "8399eb48-22e4-4be0-ef93-03cf74452860"
      },
      "execution_count": null,
      "outputs": [
        {
          "output_type": "stream",
          "name": "stdout",
          "text": [
            "Dayse\n",
            "Billy\n",
            "Cristy\n",
            "Jimmy\n",
            "Rakesh\n"
          ]
        }
      ]
    },
    {
      "cell_type": "code",
      "source": [
        "#iterar sobre os indices\n",
        "for indice in alunos.index:\n",
        "  print(indice)"
      ],
      "metadata": {
        "colab": {
          "base_uri": "https://localhost:8080/"
        },
        "id": "yj6Q1H8WoFox",
        "outputId": "73519153-8042-4b72-f3d6-2c16365c2c23"
      },
      "execution_count": null,
      "outputs": [
        {
          "output_type": "stream",
          "name": "stdout",
          "text": [
            "M05\n",
            "M13\n",
            "M14\n",
            "M19\n",
            "M55\n"
          ]
        }
      ]
    },
    {
      "cell_type": "code",
      "source": [
        "#cria as Series s1 e s2\n",
        "s1 = pd.Series([2,4,6]) \n",
        "s2 = pd.Series([1,3,5])\n"
      ],
      "metadata": {
        "id": "gczWgMmhoOmg"
      },
      "execution_count": null,
      "outputs": []
    },
    {
      "cell_type": "code",
      "source": [
        "#efetuar as operações aritméticas\n",
        "s1*2"
      ],
      "metadata": {
        "colab": {
          "base_uri": "https://localhost:8080/"
        },
        "id": "vI5rnPqkovop",
        "outputId": "e7d6dd9e-d17d-464b-d1a8-8be81ea70851"
      },
      "execution_count": null,
      "outputs": [
        {
          "output_type": "execute_result",
          "data": {
            "text/plain": [
              "0     4\n",
              "1     8\n",
              "2    12\n",
              "dtype: int64"
            ]
          },
          "metadata": {},
          "execution_count": 25
        }
      ]
    },
    {
      "cell_type": "code",
      "source": [
        "s1 + s2"
      ],
      "metadata": {
        "colab": {
          "base_uri": "https://localhost:8080/"
        },
        "id": "MK715nDCowuw",
        "outputId": "3dd23f64-9478-4a80-98a5-ed5f40f333b8"
      },
      "execution_count": null,
      "outputs": [
        {
          "output_type": "execute_result",
          "data": {
            "text/plain": [
              "0     3\n",
              "1     7\n",
              "2    11\n",
              "dtype: int64"
            ]
          },
          "metadata": {},
          "execution_count": 27
        }
      ]
    },
    {
      "cell_type": "code",
      "source": [
        "#raiz quadrada dos elementos de s1\n",
        "np.sqrt(s1)"
      ],
      "metadata": {
        "colab": {
          "base_uri": "https://localhost:8080/"
        },
        "id": "Y1mrRAHfoyqA",
        "outputId": "d0266392-18a9-4cad-f694-fe70be51e368"
      },
      "execution_count": null,
      "outputs": [
        {
          "output_type": "execute_result",
          "data": {
            "text/plain": [
              "0    1.414214\n",
              "1    2.000000\n",
              "2    2.449490\n",
              "dtype: float64"
            ]
          },
          "metadata": {},
          "execution_count": 28
        }
      ]
    },
    {
      "cell_type": "markdown",
      "source": [
        "**O valor NaN**"
      ],
      "metadata": {
        "id": "hDiXOymwpzO8"
      }
    },
    {
      "cell_type": "code",
      "source": [
        "verde\t=\tpd.Series({'BR':1,\t'FR':\t0,\t'IT':1,\t'UK':\t0})\n",
        "azul\t=\tpd.Series({'AR':1,\t'BR':1,\t'FR':\t1,\t'IT':0,\t'UK':\t1})\n"
      ],
      "metadata": {
        "id": "8-rCyFp1pWvH"
      },
      "execution_count": null,
      "outputs": []
    },
    {
      "cell_type": "code",
      "source": [
        "soma = verde + azul\n",
        "soma"
      ],
      "metadata": {
        "colab": {
          "base_uri": "https://localhost:8080/"
        },
        "id": "PcMoZy9KqExS",
        "outputId": "107b28c9-6cf7-494f-b38a-e920aac609e1"
      },
      "execution_count": null,
      "outputs": [
        {
          "output_type": "execute_result",
          "data": {
            "text/plain": [
              "AR    NaN\n",
              "BR    2.0\n",
              "FR    1.0\n",
              "IT    1.0\n",
              "UK    1.0\n",
              "dtype: float64"
            ]
          },
          "metadata": {},
          "execution_count": 30
        }
      ]
    },
    {
      "cell_type": "code",
      "source": [
        "pd.isnull(soma)"
      ],
      "metadata": {
        "colab": {
          "base_uri": "https://localhost:8080/"
        },
        "id": "86D0zvzzqJRv",
        "outputId": "d4a99539-5ad1-403d-8b58-e1c97c7f61ac"
      },
      "execution_count": null,
      "outputs": [
        {
          "output_type": "execute_result",
          "data": {
            "text/plain": [
              "AR     True\n",
              "BR    False\n",
              "FR    False\n",
              "IT    False\n",
              "UK    False\n",
              "dtype: bool"
            ]
          },
          "metadata": {},
          "execution_count": 31
        }
      ]
    },
    {
      "cell_type": "markdown",
      "source": [
        "### Índices Datetime"
      ],
      "metadata": {
        "id": "WKwVnpalqu23"
      }
    },
    {
      "cell_type": "code",
      "source": [
        "dias = ['10/02/2019',\t'11/02/2019','12/02/2019','13/02/2019',\n",
        "\t\t\t\t\t\t\t\t'14/02/2019','15/02/2019']"
      ],
      "metadata": {
        "id": "j_S8vJC744-M"
      },
      "execution_count": 2,
      "outputs": []
    },
    {
      "cell_type": "code",
      "source": [
        "temp_max = [31,35,34,28,27,27]"
      ],
      "metadata": {
        "id": "zxe4cIN_5SK6"
      },
      "execution_count": 3,
      "outputs": []
    },
    {
      "cell_type": "code",
      "source": [
        "serie_temporal = pd.Series(temp_max, index=dias)"
      ],
      "metadata": {
        "id": "8rrqvRp85Vqd"
      },
      "execution_count": 4,
      "outputs": []
    },
    {
      "cell_type": "code",
      "source": [
        "#converte o tipo de índice para datetime\n",
        "serie_temporal.index = pd.to_datetime(serie_temporal.index, format = '%d/%m/%Y')"
      ],
      "metadata": {
        "id": "be8L2xnm5afF"
      },
      "execution_count": 5,
      "outputs": []
    },
    {
      "cell_type": "code",
      "source": [
        "serie_temporal"
      ],
      "metadata": {
        "colab": {
          "base_uri": "https://localhost:8080/"
        },
        "id": "qSrouYAt5s4M",
        "outputId": "bd2af42b-4a96-4a64-ac9b-7fd117e60934"
      },
      "execution_count": 6,
      "outputs": [
        {
          "output_type": "execute_result",
          "data": {
            "text/plain": [
              "2019-02-10    31\n",
              "2019-02-11    35\n",
              "2019-02-12    34\n",
              "2019-02-13    28\n",
              "2019-02-14    27\n",
              "2019-02-15    27\n",
              "dtype: int64"
            ]
          },
          "metadata": {},
          "execution_count": 6
        }
      ]
    },
    {
      "cell_type": "markdown",
      "source": [
        "### Indexação hierárquica"
      ],
      "metadata": {
        "id": "ecNDelOK6G9P"
      }
    },
    {
      "cell_type": "code",
      "source": [
        "moedas = ['Peso',\t'Real',\t'Euro',\t'Euro',\t'Libra']"
      ],
      "metadata": {
        "id": "MG85ss7r5t7L"
      },
      "execution_count": 7,
      "outputs": []
    },
    {
      "cell_type": "code",
      "source": [
        "paises = [['America','America','Europa','Europa','Europa'],\n",
        "\t\t\t\t\t\t\t\t\t\t['AR','BR','FR','IT','UK']]"
      ],
      "metadata": {
        "id": "-zkjan216S7M"
      },
      "execution_count": 12,
      "outputs": []
    },
    {
      "cell_type": "code",
      "source": [
        "paises = pd.Series(moedas, index=paises)"
      ],
      "metadata": {
        "id": "-dsZv3yg6Vb9"
      },
      "execution_count": 14,
      "outputs": []
    },
    {
      "cell_type": "code",
      "source": [
        "paises"
      ],
      "metadata": {
        "colab": {
          "base_uri": "https://localhost:8080/"
        },
        "id": "e5mE4RDT6b4V",
        "outputId": "55e27e07-fe28-4dec-f675-105d93d55c5e"
      },
      "execution_count": 15,
      "outputs": [
        {
          "output_type": "execute_result",
          "data": {
            "text/plain": [
              "America  AR     Peso\n",
              "         BR     Real\n",
              "Europa   FR     Euro\n",
              "         IT     Euro\n",
              "         UK    Libra\n",
              "dtype: object"
            ]
          },
          "metadata": {},
          "execution_count": 15
        }
      ]
    },
    {
      "cell_type": "code",
      "source": [
        "paises['America']"
      ],
      "metadata": {
        "colab": {
          "base_uri": "https://localhost:8080/"
        },
        "id": "sJVi2fN06eaL",
        "outputId": "1f0ea1b4-9f41-4127-838a-afb639ef2cc1"
      },
      "execution_count": 16,
      "outputs": [
        {
          "output_type": "execute_result",
          "data": {
            "text/plain": [
              "AR    Peso\n",
              "BR    Real\n",
              "dtype: object"
            ]
          },
          "metadata": {},
          "execution_count": 16
        }
      ]
    },
    {
      "cell_type": "code",
      "source": [
        "paises['Europa']"
      ],
      "metadata": {
        "colab": {
          "base_uri": "https://localhost:8080/"
        },
        "id": "2aN_Hx076nu7",
        "outputId": "709be644-5b58-4f74-b7ec-b8671afd4966"
      },
      "execution_count": 17,
      "outputs": [
        {
          "output_type": "execute_result",
          "data": {
            "text/plain": [
              "FR     Euro\n",
              "IT     Euro\n",
              "UK    Libra\n",
              "dtype: object"
            ]
          },
          "metadata": {},
          "execution_count": 17
        }
      ]
    },
    {
      "cell_type": "code",
      "source": [
        "paises[:,'IT']"
      ],
      "metadata": {
        "colab": {
          "base_uri": "https://localhost:8080/"
        },
        "id": "-KsPuw9X60O1",
        "outputId": "de1fe905-358e-4eb9-9bc2-812aa76df276"
      },
      "execution_count": 18,
      "outputs": [
        {
          "output_type": "execute_result",
          "data": {
            "text/plain": [
              "Europa    Euro\n",
              "dtype: object"
            ]
          },
          "metadata": {},
          "execution_count": 18
        }
      ]
    },
    {
      "cell_type": "code",
      "source": [
        "paises['Europa','IT']"
      ],
      "metadata": {
        "colab": {
          "base_uri": "https://localhost:8080/",
          "height": 35
        },
        "id": "IcQcqcaS6_aU",
        "outputId": "8106572e-3035-4268-fd27-8156c883cbdf"
      },
      "execution_count": 19,
      "outputs": [
        {
          "output_type": "execute_result",
          "data": {
            "application/vnd.google.colaboratory.intrinsic+json": {
              "type": "string"
            },
            "text/plain": [
              "'Euro'"
            ]
          },
          "metadata": {},
          "execution_count": 19
        }
      ]
    }
  ]
}