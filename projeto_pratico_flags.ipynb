{
  "nbformat": 4,
  "nbformat_minor": 0,
  "metadata": {
    "colab": {
      "name": "projeto-pratico-flags.ipynb",
      "provenance": [],
      "authorship_tag": "ABX9TyO0Bjqg4S3RluehbaypMGBI",
      "include_colab_link": true
    },
    "kernelspec": {
      "name": "python3",
      "display_name": "Python 3"
    },
    "language_info": {
      "name": "python"
    }
  },
  "cells": [
    {
      "cell_type": "markdown",
      "metadata": {
        "id": "view-in-github",
        "colab_type": "text"
      },
      "source": [
        "<a href=\"https://colab.research.google.com/github/anicelysantos/python-data-wrangling/blob/main/projeto_pratico_flags.ipynb\" target=\"_parent\"><img src=\"https://colab.research.google.com/assets/colab-badge.svg\" alt=\"Open In Colab\"/></a>"
      ]
    },
    {
      "cell_type": "markdown",
      "source": [
        "Quais os paises que também tem verde, amarelo, azul e branco entre as cores de sua bandeira nacional?"
      ],
      "metadata": {
        "id": "oFrCcjd4Pm6t"
      }
    },
    {
      "cell_type": "code",
      "execution_count": 1,
      "metadata": {
        "id": "IolSd1krU11V"
      },
      "outputs": [],
      "source": [
        "import pandas as pd"
      ]
    },
    {
      "cell_type": "code",
      "source": [
        "flags = pd.read_csv('https://raw.githubusercontent.com/anicelysantos/python-data-wrangling/main/flags.csv')"
      ],
      "metadata": {
        "id": "2JyRg2x9Pbgz"
      },
      "execution_count": 2,
      "outputs": []
    },
    {
      "cell_type": "code",
      "source": [
        "flags.head()"
      ],
      "metadata": {
        "id": "edLIy22CPtDR"
      },
      "execution_count": null,
      "outputs": []
    },
    {
      "cell_type": "code",
      "source": [
        "#Quem tem verde, amarelo, azul e branco na bandeira? Vamos separar\n",
        "\n",
        "verde = flags['green']\n",
        "amarelo = flags['gold']\n",
        "azul = flags['blue']\n",
        "branco = flags['white']\n",
        "soma = verde + amarelo + azul + branco"
      ],
      "metadata": {
        "id": "94KB37Z-P2i6"
      },
      "execution_count": 8,
      "outputs": []
    },
    {
      "cell_type": "code",
      "source": [
        "#gera vetor boleano com True para quem tem as 4 cores\n",
        "tem_todas = (soma==4)"
      ],
      "metadata": {
        "id": "MsT-W7ZUQ4xx"
      },
      "execution_count": 12,
      "outputs": []
    },
    {
      "cell_type": "code",
      "source": [
        "#imprime os nomes dos países com as quatro cores\n",
        "print('paises com verde, amarelo, azul e branco: ')\n",
        "print(flags[tem_todas.values]['name'])"
      ],
      "metadata": {
        "id": "qlb4fh5jQ_C4"
      },
      "execution_count": null,
      "outputs": []
    }
  ]
}